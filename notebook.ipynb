{
 "cells": [
  {
   "cell_type": "code",
   "execution_count": 1,
   "id": "8a5d6e10",
   "metadata": {},
   "outputs": [
    {
     "name": "stderr",
     "output_type": "stream",
     "text": [
      "c:\\Users\\rafae\\Desktop\\AINE_AUDIO_SUMMARIZE\\.venv\\Lib\\site-packages\\tqdm\\auto.py:21: TqdmWarning: IProgress not found. Please update jupyter and ipywidgets. See https://ipywidgets.readthedocs.io/en/stable/user_install.html\n",
      "  from .autonotebook import tqdm as notebook_tqdm\n"
     ]
    }
   ],
   "source": [
    "import pyaudio\n",
    "import wave\n",
    "import os\n",
    "from transformers import pipeline\n",
    "import pywhisper\n",
    "import torch\n",
    "import av\n",
    "import torch\n",
    "import numpy as np\n",
    "from transformers import LlavaNextVideoProcessor, LlavaNextVideoForConditionalGeneration"
   ]
  },
  {
   "cell_type": "markdown",
   "metadata": {},
   "source": [
    "### Transcripción y resumen de audio"
   ]
  },
  {
   "cell_type": "code",
   "execution_count": 2,
   "metadata": {},
   "outputs": [
    {
     "name": "stdout",
     "output_type": "stream",
     "text": [
      "Usando dispositivo: cuda\n",
      "GPU disponible?: True\n"
     ]
    }
   ],
   "source": [
    "device = \"cuda\" if torch.cuda.is_available() else \"cpu\"\n",
    "print(f\"Usando dispositivo: {device}\")\n",
    "print(\"GPU disponible?:\", torch.cuda.is_available())\n",
    "\n",
    "def transcribir_audio(archivo_audio):\n",
    "    modelo = pywhisper.load_model(\"base\", device=device)  # Puedes ajustar el modelo según tus necesidades\n",
    "    resultado = modelo.transcribe(archivo_audio)\n",
    "    return ' '.join(dic['text'] for dic in resultado['segments'])"
   ]
  },
  {
   "cell_type": "code",
   "execution_count": 3,
   "id": "a4466223",
   "metadata": {},
   "outputs": [
    {
     "name": "stderr",
     "output_type": "stream",
     "text": [
      "Device set to use cuda:0\n"
     ]
    }
   ],
   "source": [
    "summarizer = pipeline(\"summarization\", model=\"facebook/bart-large-cnn\")\n",
    "def summarize_long_text(text, chunk_size=512):\n",
    "    \"\"\"Summarizes a long text by splitting it into chunks.\"\"\"\n",
    "    chunks = [text[i:i + chunk_size] for i in range(0, len(text), chunk_size)]\n",
    "    summary_chunks = []\n",
    "\n",
    "    for chunk in chunks:\n",
    "        summary_chunks.append(summarizer(chunk, max_length=130, min_length=30, do_sample=False)[0]['summary_text'])\n",
    "\n",
    "    return \" \".join(summary_chunks)"
   ]
  },
  {
   "cell_type": "code",
   "execution_count": 4,
   "metadata": {},
   "outputs": [
    {
     "name": "stdout",
     "output_type": "stream",
     "text": [
      " El tema de los buscadores de cada vez, que es una tema muy heavy, que se que no podés  mostrar en YouTube tal cual lo viviste, pero ¿qué es esto? ¿Qué significa hasta  los buscadores de cada vez para la gente que no lo sabe?  Platzard, que antes se llamaba los tulipanes negros, que lo verán, son un grupo que  medio pena no haberlo explicado mejor en la pieza en el capítulo.  Ahora puedes espalhar de aquí.  Es algo muy sencillo, que son civiles, no son militares.  No, si hay, tenemos un gráfico, un rótulo que hablamos que son voluntarios como forma  de esa, nuestra idea es explicar que son civiles, porque para mí me parecía de hecho una  parte clave de la historia, que son civiles, pasas que van vestidos como militares,  van de camuflaje y con su casco, con su será levantivalas, por el objetivo metácelo  en el labor en zona guerra.  Entonces aglarar que son civiles, que me parece todavía más fuertes civiles, voluntarios  que se meten en las zonas, campos repletos de minas, el protagonista de este capítulo  me parece brutal la visión que tiene como habla de las almas y además no hace distinción  de Ukrainianos y de rusos.  De hecho, cuando encuentran restos humanos, ¿por qué van a pasar de constar?  ¿Qué son? ¿Qué va buscando cada vez? ¿Vos van a buscar cada vez?  Vos cada vez de cada vez.  Y los dejan en algún sitio que concreto, como se repatrian, los envían a casa tanto  Ukrainianos como rusos.  ¿Enterno van a hospital o a la morgue, donde los llevan estos?  Ellos tienen una centraita, como una sede, que es una casa en el campo, ahí tienen camiones  de frío, que es de donde sejaron los cadáveres, cuando fui al bosque con ellos no encontramos  cadáveres y no restos humanos, había, tenían pintas de ser, bueno, no sé, a ver, junto  a los restos humanos, había un femur, había un montón de huesos, los recogen también.  ¿Y eso?  ¿Y eso?  ¿Y eso?  ¿Y eso?  ¿Y eso?  ¿Y eso?  ¿Y eso?  ¿Y eso?  ¿Y eso?  ¿Y eso?  ¿Y eso?  ¿Y eso?  ¿Y eso?  ¿Y eso?  ¿Y eso?  ¿Y eso?  ¿Y eso?  ¿Y eso?  Pues...  Entonces...  Pues yo me gustaba…  Entonces etеГций caminos, pero ese Ben es más named, el Ben 없는 del  World Cup y fue bolerado en orden, nos barre właści contra este lugar el Šแลio.  Y como ya es el Beno…  Y ahora, nos barreé el cerebro, tenemos călo él claro, que es lo que hablamos.  Luego, ¿結果 anyas?  Y cuando😆, he llegado a los lugares...  DeONV Aimante.  ¿ случаen?  ¿ tours fabrication?  Haré un도 en trozo doesn specify.  ¿60,  Est superintendentiellos?!  también ayuda que sea invierno, el frío, que no, que no.  Sí, esa huella.  Pero lo que te digo, es que restos humanos como tal, yo eso era  huesos y los cadáveres también habían, eran tres rusos que habían  atrapado y que no habían salado a la vida.  De hecho, estaba en un segundo tenía un tromadismo en la cabeza o  todos le había contórniquetes en las piernas.  Me sorprendió también, y esto se ve en el reportaje, porque en el  lado de Ucrania, enseño, no es por ir con druganías, porque  este no es una realidad, es que hay una Ucrania, se han llevado  no voy ni a favor ni uno ni de otro en los reportajes, yo puedo  tener mi ideología, puedo tener un pesamiento, no lo plas, muy mis  trabajos.  Es de un punto de vista humano.  Entonces, en el tercer capítulo como digo, hablo de los reclutas,  de los mayores que son, las realidades que esos cadáveres  rusos tan poderán niños, de una edad avanzada y estaba muy  dolgados, soblando de la situación que ella también en el  otro lado del frente.  Entonces, me hace ver que realmente están viviendo muy similares,  o sea, yo es lo que digo, a nivel humano, no si se puede  comparar o no, pero a nivel humano en Rusia también se recluta  de manera forzosa, también hay padres de familia que no quieren  estar y que están allí, se les utiliza como carne picada en el  frente.  Entonces, lo que digo, desde un punto de vista humano, realmente  a nivel de esas realidades y como plasmato también el protagonista  de buscadores de cadáver, si es el Cambitulo 2, es la primera  realidad después de la introducción, la primera realidad que  se documenta a nivel humano no se hace esa diferencia,  o sea, realmente, según otras situaciones muy similares,  a nivel, pues eso, de hombres de familia, de hombres de familia,  también de chavalitos de 18 años que están ahí.  Entonces, una gran espultad lento a los niños, para mí,  de ese Cambitulo me parece brutal el protagonista,  esa es la visión que tiene el protagonista, cómo habla,  a mí me dejaba, yo me enteraba de cositas porque nos  iba introduciendo un poquito sobre la marcha, bueno, ya nos  dijo con el que introducíamos, que era con el fixer, ¿no?  ¿Qué hacía como interprete?  Y nos decía, es muy fuerte lo que estaba hablando,  decía, ya lo veréis, nos dimos cuenta realmente aquí  a posterior de traduciendo, ya haciendo lo que más  te impactó de lo que dijo.  Bueno, eso porque tiene una vista, tiene una visión súper  espiritual de todo aquello y habla de lo cargado que está  se bosque con las almas de los que han muerto ahí.  Y él tiene también una visión muy caro, el vaver restos,  y él siente, la habla que siente que le llaman,  no sé, que siente más de una vez lo que me dijeron,  porque yo le vi, a ver, nosotros llegamos en un lugar  donde ya estaban marcas, o sea, no íbamos a buscar  donde pueda ver y vamos bajo aviso, había unas cintas,  bajo aviso que hay restos en ese sitio.  Entonces, iba a nada, inspeccionar la zona un poquito,  pero no te mueves mucho porque está todo lleno de minas.  Vamos andando, pisando lo que pisa el de adelante.  Entonces, y va a decir eso, se recogen esos huesos,  y luego yo vi que él se ponía de rodillas a inspeccionar  por otras zonas y tal.  Y sí que se brinjó, me contaron que él muchas veces  encuentra huesos que no están marcados,  aquí había que ir quitando nieve y en el mundo.  Como una sensibilidad o como...  Una sensibilidad, no digamos.  O al menos lo que te digo, que se ha verdad que no todo está  en cómo él lo viva, lo que, o sea, cómo él lo vive,  le hace buscar más allá, se mete en caminos  donde nos ha señalado nada, encuentra más allá,  que es porque lo has sentido de verdad,  o que es porque es el que se mete más...  Bueno, el...  ¿Cogran por esto?  No, no, no, no.  No, cobran.  ¿Sómbulo en varios?  A ver, hay donaciones.  Pero, si hay gente, tiene un trabajo aparte de esto,  o se dedican...  Fior en la guerra, están 100% dedicados a eso.  Entonces, claro, ¿cómo que algún sitio deben...  De algo de las donaciones...  De las donaciones.  Las donaciones.  Entonces, puede donar a Plas d'Arn, que es...  Es el grupo, ¿está?  Que ves, yo también creo que...  Oye, si le va bien la espiritualidad para esto,  porque al final tú sabes lo duro que tiene que ser  para una persona, está recogiendo cada vez  recientes durante meses de niños, de ancianos, de...  De todo, de víctimas civiles que también,  por desgracia, es encontrarnos.\n"
     ]
    }
   ],
   "source": [
    "transcripcion = transcribir_audio(\"./grabaciones/podcast.mp3\")\n",
    "print(transcripcion)"
   ]
  },
  {
   "cell_type": "code",
   "execution_count": 5,
   "metadata": {},
   "outputs": [
    {
     "name": "stderr",
     "output_type": "stream",
     "text": [
      "You seem to be using the pipelines sequentially on GPU. In order to maximize efficiency please use a dataset\n",
      "Your max_length is set to 130, but your input_length is only 93. Since this is a summarization task, where outputs shorter than the input are typically wanted, you might consider decreasing max_length manually, e.g. summarizer('...', max_length=46)\n"
     ]
    },
    {
     "name": "stdout",
     "output_type": "stream",
     "text": [
      "\"Platzard\" es un grupo que  medio pena no haberlo explicado mejor. Es algo muy sencillo, que son civiles, no son militares. No, if hay, tenemos un gráfico, un rótulo q\" \"Ue hablamos que son voluntarios como forma  de esa, nuestra idea es explicar that son civiles, porque para mí me parece de hecho una  parte clave of la historia, que sonCiviles, pasas que van vestidos como militares,  van de camuflaje\" Parece brutal la visión que tiene como habla de las almas. No hace distinción  de Ukrainianos y de rusos. Ellos tienen una centraita, como una sede, que es u u \"Pues yo me gusta...  Pues...  Entonces ...  Puedes yo me Gusta\" \"No encontramos cadáveres y no restos humanos, había, tenían pintas de ser, bueno\" El Ben is the mascot of the 2014 World Cup in Brazil. He has been described as 'the face of the World Cup' He has also been called 'the most beautiful man in the world' \"Me sorprendió también, y esto se ve en el reportaje, porque en el  lado of Ucrania, enseño, no es por ir with druganías\" \"No voy ni a favor ni uno ni de o. o lo que te digo, es that restos humanos como tal\" \"Yo puedo  tener mi ideología, puede tener un pesamiento, no lo plas, muy mis trabajos. Es de un punto de vista humano. Entonces, me hace ver que realmente están viviendo muy similares\" A nivel humano en Rusia también se recluta  de manera forzosa. hay padres de familia que no quieren  estar y que están allí, se les utiliza como carne picada en el  frente. Entonces, lo que digo, desde un punto de vista humano, realmente  a niveL of esas realidades y como plasmato tambicén el protagonista  de buscadores de cadáver. \"No no no se hace esa diferencia,  o sea, realmente, según otras situaciones muy similares,  a nivel, pues eso, de hombres de familia,  también de chavalitos de 18 años que están ahí. Entonces, una gran espultad lento a los niños, para mí,  de ese Cambitulo me parece brutal el protagonista\" \"Es muy fuerte lo que estaba hablando,  decía, ya lo veréis, nos dimos cuenta realmente aquí  a posterior de traduciendo, ya haciendo lo\" \"Nosotros llegamos en un lugar  donde ya estaban marcas, o sea, no íbamos a buscar  d where pueda ver y vamos bajo aviso, había unas cintas\" \"Entonces, iba a nada, inspeccionar la zona un poquito,  pero no te mueves mucho porque está todo lleno de minas\" \"No todo está en cómo él lo viva, lo que, o sea, cólo élLo vive,  le hace buscar más allá, se mete en caminos  donde nos ha señalado nada,  que es porque lo has sentido de verdad\" \"Es una sensibilidad, no digamos\" A ver, hay donaciones.  Pero, si hay gente, tiene un trabajo aparte de esto,  or se dedican...  Fior en la guerra, están 100% dedicados a eso. Entonces, claro, ¿cómo que algún sitio deben...  De algo de las donación...  Las donacione. \"Tú sabes lo duro que tiene que ser  para una persona, está recogiendo cada vez  recientes durante meses de niños, de ancianos, of...  De todo, de víctimas civiles que también,  por desgracia, es encontrarnos\"\n"
     ]
    }
   ],
   "source": [
    "resumen = summarize_long_text(transcripcion)\n",
    "print(resumen)"
   ]
  },
  {
   "cell_type": "markdown",
   "metadata": {},
   "source": [
    "### Transcripción de grabación"
   ]
  },
  {
   "cell_type": "code",
   "execution_count": 8,
   "id": "3721b543",
   "metadata": {},
   "outputs": [
    {
     "name": "stdout",
     "output_type": "stream",
     "text": [
      "Comienzo de la grabación...\n",
      "Fin de la grabación...\n",
      "Grabacion completadas.\n"
     ]
    }
   ],
   "source": [
    "FRAMES=1024\n",
    "FORMAT = pyaudio.paInt16\n",
    "CHANNELS = 1\n",
    "RATE = 44100\n",
    "RUTA_GRABACIONES= \"./grabaciones\"\n",
    "os.makedirs(RUTA_GRABACIONES, exist_ok=True)\n",
    "p = pyaudio.PyAudio()\n",
    "\n",
    "stream = p.open(\n",
    "                format=FORMAT,\n",
    "                channels=CHANNELS,\n",
    "                rate=RATE,\n",
    "                input=True,\n",
    "                frames_per_buffer=FRAMES\n",
    "                )\n",
    "print(f\"Comienzo de la grabación...\")\n",
    "frames=[]\n",
    "segundos=60\n",
    "for j in range(0,int(RATE/FRAMES*segundos)):\n",
    "    data=stream.read(FRAMES)\n",
    "    frames.append(data)\n",
    "\n",
    "print(f\"Fin de la grabación...\")\n",
    "stream.stop_stream()\n",
    "stream.close()\n",
    "filename = os.path.join(RUTA_GRABACIONES, f\"grabacion.wav\")\n",
    "with wave.open(filename, 'wb') as wf:\n",
    "    wf.setnchannels(CHANNELS)\n",
    "    wf.setsampwidth(2)  \n",
    "    wf.setframerate(RATE)\n",
    "    wf.writeframes(b''.join(frames))\n",
    "\n",
    "p.terminate()\n",
    "\n",
    "print(\"Grabacion completadas.\")"
   ]
  },
  {
   "cell_type": "code",
   "execution_count": 9,
   "id": "8dde1bfb",
   "metadata": {},
   "outputs": [
    {
     "name": "stdout",
     "output_type": "stream",
     "text": [
      " Esta mañana salió un poco tarde y llegué al parque justo cuando el sol empezaba a  somarse tras los edificios.  El aire estaba fresco y olíacés perrecían cortado.  Vía una señora que hacia el tiramiento junto a un banco, mientras un perro corría  detrás de una pelota que lanzaba a legue.  Un grupo de estudiantes conversaba y reía cerca de la fuente, y el sonido del agua  creaba una atmósfera relajada.  Me senté en un banco, saqué mi botella de agua y disfrute del silencio roto solo por  lo pajarito.  Al fondo un corredor pasaba cada vez más rápido, como si perseguer al rimo de su propia  música.  Observé como una paloma se acercaba buscando miga en el juego, sin ninguna puro.  Me di cuenta de que en apenas un minuto sucede un mundo, gestos, risas, pasos y aire fresco.  Aproveche ese instante para desconectar y recagar pilas antes de volver a la jetreodiaria.\n"
     ]
    }
   ],
   "source": [
    "transcripcion = transcribir_audio(\"./grabaciones/grabacion.wav\")\n",
    "print(transcripcion)"
   ]
  },
  {
   "cell_type": "code",
   "execution_count": 10,
   "metadata": {},
   "outputs": [
    {
     "name": "stdout",
     "output_type": "stream",
     "text": [
      "El sol empezaba a somarse tras los edificios. El aire estaba fresco y olíacés perrecían cortado. Me senté en un banco, saqué mi botella de agua y disfrute del silencio roto. Aproveche ese instante para desconectar y recagar pilas. Observé como una paloma se acercaba buscando miga en el juego, sin ninguna puro.\n"
     ]
    }
   ],
   "source": [
    "resumen = summarize_long_text(transcripcion)\n",
    "print(resumen)"
   ]
  },
  {
   "cell_type": "markdown",
   "metadata": {},
   "source": [
    "### Transcripción de video"
   ]
  },
  {
   "cell_type": "code",
   "execution_count": 36,
   "metadata": {},
   "outputs": [
    {
     "name": "stderr",
     "output_type": "stream",
     "text": [
      "Loading checkpoint shards: 100%|██████████| 3/3 [00:41<00:00, 13.69s/it]\n"
     ]
    }
   ],
   "source": [
    "model_id = \"llava-hf/LLaVA-NeXT-Video-7B-hf\"\n",
    "\n",
    "model = LlavaNextVideoForConditionalGeneration.from_pretrained(\n",
    "    model_id, \n",
    "    torch_dtype=torch.float16, \n",
    "    low_cpu_mem_usage=True, \n",
    ").to(device)\n",
    "\n",
    "processor = LlavaNextVideoProcessor.from_pretrained(model_id)\n",
    "\n",
    "def read_video_pyav(container, indices):\n",
    "    '''\n",
    "    Decode the video with PyAV decoder.\n",
    "    Args:\n",
    "        container (`av.container.input.InputContainer`): PyAV container.\n",
    "        indices (`List[int]`): List of frame indices to decode.\n",
    "    Returns:\n",
    "        result (np.ndarray): np array of decoded frames of shape (num_frames, height, width, 3).\n",
    "    '''\n",
    "    frames = []\n",
    "    container.seek(0)\n",
    "    start_index = indices[0]\n",
    "    end_index = indices[-1]\n",
    "    for i, frame in enumerate(container.decode(video=0)):\n",
    "        if i > end_index:\n",
    "            break\n",
    "        if i >= start_index and i in indices:\n",
    "            frames.append(frame)\n",
    "    return np.stack([x.to_ndarray(format=\"rgb24\") for x in frames])\n",
    "\n",
    "\n",
    "# define a chat history and use `apply_chat_template` to get correctly formatted prompt\n",
    "# Each value in \"content\" has to be a list of dicts with types (\"text\", \"image\", \"video\") \n",
    "conversation = [\n",
    "    {\n",
    "\n",
    "        \"role\": \"user\",\n",
    "        \"content\": [\n",
    "            {\"type\": \"text\", \"text\": \"Describe the video in detail.\"},\n",
    "            {\"type\": \"video\"},\n",
    "            ],\n",
    "    },\n",
    "]\n",
    "\n",
    "prompt = processor.apply_chat_template(conversation, add_generation_prompt=True)\n",
    "\n",
    "def transcribir_video(video_path):\n",
    "  container = av.open(video_path)\n",
    "  total_frames = container.streams.video[0].frames\n",
    "  indices = np.arange(0, total_frames, total_frames / 8).astype(int)\n",
    "  clip = read_video_pyav(container, indices)\n",
    "  inputs_video = processor(text=prompt, videos=clip, padding=True, return_tensors=\"pt\").to(model.device)\n",
    "\n",
    "  output = model.generate(**inputs_video, max_new_tokens=100, do_sample=False)\n",
    "  \n",
    "  transcription = processor.decode(output[0][2:], skip_special_tokens=True)\n",
    "  return transcription"
   ]
  },
  {
   "cell_type": "code",
   "execution_count": 37,
   "metadata": {},
   "outputs": [
    {
     "name": "stdout",
     "output_type": "stream",
     "text": [
      "ER: \n",
      "Describe the video in detail. ASSISTANT: The video shows a group of people dressed in religious attire, including robes and hats, sitting in rows in a large room with a speaker at the front. The speaker is a man wearing a white robe and a white hat, who appears to be giving a speech or presentation. The audience is attentively listening to him. The room is well-lit, and the people are seated on chairs facing the speaker. The atmosphere is formal and serious, suggesting that this\n"
     ]
    }
   ],
   "source": [
    "video_path = \"./grabaciones/papa.mp4\"\n",
    "transcripcion = transcribir_video(video_path)\n",
    "print(transcripcion)"
   ]
  },
  {
   "cell_type": "code",
   "execution_count": 38,
   "metadata": {},
   "outputs": [
    {
     "name": "stderr",
     "output_type": "stream",
     "text": [
      "Your max_length is set to 130, but your input_length is only 109. Since this is a summarization task, where outputs shorter than the input are typically wanted, you might consider decreasing max_length manually, e.g. summarizer('...', max_length=54)\n"
     ]
    },
    {
     "name": "stdout",
     "output_type": "stream",
     "text": [
      "The video shows a group of people dressed in religious attire, including robes and hats, sitting in rows in a large room. The speaker is a man wearing a white robe and a white hat, who appears to be giving a speech.\n"
     ]
    }
   ],
   "source": [
    "resumen = summarize_long_text(transcripcion)\n",
    "print(resumen)"
   ]
  },
  {
   "cell_type": "markdown",
   "metadata": {},
   "source": [
    "### Validación audio"
   ]
  },
  {
   "cell_type": "code",
   "execution_count": 17,
   "metadata": {},
   "outputs": [],
   "source": [
    "def aparicion_palabras_clave(texto, palabras_clave):\n",
    "    conteo = {palabra: texto.lower().count(palabra.lower()) for palabra in palabras_clave}\n",
    "    print(\"Palabras clave que deben aparecer:\", palabras_clave)\n",
    "    print(\"Número de palabras clave:\", len(palabras_clave))\n",
    "    print(\"Conteo de palabras clave que aparecen:\", conteo)\n",
    "    print(\"Número de palabras clave que aparecen:\", sum(1 for count in conteo.values() if count > 0))\n"
   ]
  },
  {
   "cell_type": "markdown",
   "metadata": {},
   "source": [
    "##### Audio corto de whatsapp"
   ]
  },
  {
   "cell_type": "code",
   "execution_count": 18,
   "metadata": {},
   "outputs": [
    {
     "name": "stderr",
     "output_type": "stream",
     "text": [
      "Your max_length is set to 130, but your input_length is only 25. Since this is a summarization task, where outputs shorter than the input are typically wanted, you might consider decreasing max_length manually, e.g. summarizer('...', max_length=12)\n"
     ]
    },
    {
     "name": "stdout",
     "output_type": "stream",
     "text": [
      " Bajaro de los Nacionales volando por arriba de la feria de Sevilla\n",
      "Bajaro de los Nacionales volando por arriba de la feria de Sevilla. Bajaro   volando  por ariba de the feria.\n",
      "Palabras clave que deben aparecer: ['feria', 'nacionales']\n",
      "Número de palabras clave: 2\n",
      "Conteo de palabras clave que aparecen: {'feria': 1, 'nacionales': 1}\n",
      "Número de palabras clave que aparecen: 2\n"
     ]
    }
   ],
   "source": [
    "transcripcion = transcribir_audio(\"./grabaciones/audiowhatsapp.opus\")\n",
    "print(transcripcion)\n",
    "resumen = summarize_long_text(transcripcion)\n",
    "print(resumen)\n",
    "\n",
    "palabras_clave = [\"feria\", \"nacionales\"]\n",
    "\n",
    "aparicion_palabras_clave(transcripcion, palabras_clave)"
   ]
  },
  {
   "cell_type": "markdown",
   "metadata": {},
   "source": [
    "#### Letra de canción"
   ]
  },
  {
   "cell_type": "code",
   "execution_count": null,
   "metadata": {},
   "outputs": [
    {
     "name": "stdout",
     "output_type": "stream",
     "text": [
      " Cuando paso por el puente triana contigo mi camina  Cuando paso por el puente triana contigo mi camina triana contigo mi camina  Con mirarte solamente mi camina me muero garevia  Porque tienes unos sombianas y cualquier dulceiro triana y cualquier dulceiro  Y una clase de chuva triana te va en un duplero  Si para otro me deja la triana de pena moriría  Me di a nadie, no te quiero y te mere, me rendido el teniría triana triana y un el  Velaita de Santana triana, farones sobre el río  Velaita de Santana triana, farones sobre el río triana  Falo de sobre el río cuantesitos de avellana triana y tuve el plazo río  Un ritano va cantando triana con promos de colores triana con promos de colores  Una pie a fuego una conriana pétiño y alfrajo  Calentito y busco el otro triana que le gra su pestaña  Ay, niña, que mira, mira, me vamos a ver la cumpaña, se te daña triana y un el  Arfarero de triana triana, casi al nos afina  Alfarero de triana triana, casi al nos afina triana, casi al nos afina  En el cielo hay no herma, la triana que sonca y no digna  El casoro tan abandono triana y dice el que no ha hito triana y dice el que no hito  Un semplante agonizante triana igual al que se hito y eseño sanizador o triana  Reponda la dosa ella la crea también tiene que ver un cavitar a tambien triana triana y tuve  Por barcones y ventana triana, manto nejialería  Por barcones y ventana triana, manto nejialería  La manto nejialería, manto nejialería  Y le pica las cantanas triana de toda la moscilla  No hay poesa que le escriba triana, la moscilla triana, la moscilla triana y ese barrio dando quino triana la vida del cosillo  Refrando sanerío triana, la luna y asasoma y todo repina en la bella, la bella, la blanca paloma triana triana y tuve\n"
     ]
    },
    {
     "name": "stderr",
     "output_type": "stream",
     "text": [
      "Your max_length is set to 130, but your input_length is only 78. Since this is a summarization task, where outputs shorter than the input are typically wanted, you might consider decreasing max_length manually, e.g. summarizer('...', max_length=39)\n"
     ]
    },
    {
     "name": "stdout",
     "output_type": "stream",
     "text": [
      "Para mirarte solamente mi camina me muero garevia. Porque tienes unos sombianas y cualquier dulceiro triana. Y una clase de chuva triana te va en un duplero. Si para otro me deja la triana de pena moriría. Un ritano va cantando triana con promos de colores triana with promos of colores. Una pie a fuego una conriana pétiño y alfrajo. Calentito y busco el otro triana that le gra su pestaña. Triana is un semplante agonizante triana igual al that se hito y eseño sanizador o triana. Reponda la dosa ella la crea también tiene que ver un cavitar a tambien triana triana y tuve. Ana, la moscilla triana, the moscillas triana. ana, la luna y asasoma. ana. Ana, the bella, the blanca paloma triana triana and tuve.\n",
      "Palabras clave que deben aparecer: ['sevilla', 'triana', 'giralda', 'arte', 'hija', 'buleria', 'baile']\n",
      "Número de palabras clave: 7\n",
      "Conteo de palabras clave que aparecen: {'sevilla': 0, 'triana': 38, 'giralda': 0, 'arte': 1, 'hija': 0, 'buleria': 0, 'baile': 0}\n",
      "Número de palabras clave que aparecen: 2\n"
     ]
    }
   ],
   "source": [
    "transcripcion = transcribir_audio(\"./grabaciones/sevillana.mp3\")\n",
    "print(transcripcion)\n",
    "resumen = summarize_long_text(transcripcion)\n",
    "print(resumen)\n",
    "\n",
    "palabras_clave = [\"sevilla\", \"triana\", \"arte\", \"niña\"]\n",
    "\n",
    "aparicion_palabras_clave(transcripcion, palabras_clave)"
   ]
  },
  {
   "cell_type": "markdown",
   "metadata": {},
   "source": [
    "#### Audio de video largo"
   ]
  },
  {
   "cell_type": "code",
   "execution_count": 20,
   "metadata": {},
   "outputs": [
    {
     "name": "stdout",
     "output_type": "stream",
     "text": [
      " A ver, Flowers de My Liz Iris.  Hace de la canción más estremeada en su primera semana en la historia de Spotify.  O sea, le he ido muy bien.  Dicho es, quiero analizar Flowers porque me gusta mucho y quiero analizar la canción  en la que se basa, que me gusta que creo que aún más que es Buenaigua's Your Man de  Rommar.  La canción de Flowers está basada en la letra y en la melodía y en los acordes.  Hay mucha gente hablando de que ha cogido cosas de la letra.  La letra es una respuesta a la de Bruno Mars, pero la melodía también es la misma.  A gente que se dedica a analizar música y siendo no tiene nada que ver melodicamente.  Hay artículos de Billboard diciendo no, no coge ningún elemento melodico, no es verdad.  Es una canción respuesta en todas las maneras de responder letra, melodía y acordes.  Se falta la producción, la producción coge la de Will's Urmite, entonces pues ya estamos  a peñón.  Capítulo 1, lo que todo el mundo sea.  La letra de My Liz Iris dice,  «I can buy myself flowers and I can hold my own hand».  Esta letra es en respuesta a cómo se sentía Miley en su relación con su ex.  «I don't ever want to have to need someone again where you feel like without them,  you can't be yourself».  Entonces aquí está diciendo, me a comprar mis propias flores, me a escribir mi propio nombre en la arena,  voy a hablar conmigo misma, voy a llevarme a bailar a mi misma, voy a darme la mano a mi misma,  ya está, chao, fuera.  Puedo hacer esas cosas sin ti.  Y aunque eso en principio se lo está diciendo a su ex, está articulándolo como una respuesta,  a una canción de Bruno Mars.  Cantadas desde la perspectiva del chico en la relación, diciendo esto.  Tratar un poco sobre ti.  Toc unas mez clicos, literalmente desconoc Row,  yiencies lo lo antaroque.  Cómo reveals en hello…  Tienos que ver.  Hay rumores sobre si es que Alex de Miley le dedicaba mucho a la canción de Bruno Mars y no si lo que sea.  H get yelled.  L단as estas confirmas.  confirmó. El tema es que es una answer song, una canción que responde a otra canción,  y está formando un diálogo con otra canción a una década de distancia de las canciones.  Pero hay más, no es solo una answer song en letra. Esta es la parte que no he visto  tan comentado. La letra del estribillo de Miley está basada en la letra del estribillo  de Bruno Mars, pero la melodía y los acordes del estribillo de Miley son la estrofe de  la canción de Bruno Mars.  Los acordes son los mismos. Si veinte Bruno adornan algunos acordes metiéndole  a una séptima en medio, porque su canción dura un poco más, porque está todo más dilatado.  Bruno es una esencia también hace la menor re, sol, do y para ir del do, a la menor, hace el  solo, y a la menor, hace prácticamente lo mismo en esencia. Lo que pasa es que lo copierte  en un do directamente, pero porque quita una nota, la melodía es la misma también, eso  es lo que es muy bonito. Lo que hace para mí es que la respuesta sea todavía más potente.  Y si llegates a la misma nota simplemente Miley es más rápido. Bruno hace. Bruno hace así.  Miley es lo mismo muy rápido. Lo único que cambia es el tempo. Miley ha cogido Bruno  Mars, lo ha hecho el doble de rápido y ha cantado lo que cantaba Bruno prácticamente.  Es el tema de Flágo y de Undertale por encima en Flogueres de Miley.  No tiene nada que ver con el vídeo, pero me hacía gracias.  Vale, entonces ¿qué pasa? Que cuando Miley se irucoje los acordes de Bruno Mars y lo  simplifica un poco para cortarlos, le queda la menor, remenor, sol, do. Si sigues un  poco más que tienes la serie de cuartas del barroco. Puedes coger los cuatro primeros  acordes y hacer las cuatro estaciones Miley, Sairos muy fácilmente.  I will Survive tiene esa serie de acordes. Y I will Survive va de una tiba que te  creía que no iba a poder Tarvi M.C. y luego voy y descubro que sí resumen.  Es decir, los cuatro primeros acordes de Miley que ha cogido de Bruno Mars son iguales  que los cuatro primeros acordes de I will Survive. Todos empieza a conectar en su cabeza  y le da una producción estilo I will Survive. Estas son las cuerdas de Will Survive.  Estas son las cuerdas de Flowers. La segunda mitad de la estribuía de Flowers suena muy  parecida a estas cuerdas de I will Survive.  No sé en qué orden empezaron a conectar las ideas, pero es muy fortuito que justo la  canción de Bruno Mars y la de I will Survive tengan estos acordes. Además ellos lo  cogen para Flagways y entonces cogen la producción de I y la letra de otro y la melodía de  Ufink ha quedado pues una cosa muy coherente a nivel artístico. Está como respondiendo  a Bruno Mars con la potencia de la producción de Gloria Gaynor.  Es decir, un ejemplo de cómo hacer un hit viral es este. Si tú trabajas en una disco  gráfica y tú haces Flowers y tú se le enseñas a la R, el artista y repertorio, que es  un puesto de una persona que se supone que ve la por tu éxito profesional en la industria.  Tú le enseñas esta canción a la R y la R te pone un 10. Te pone una matrícula de honor  y es por la estructura. Esta es la estructura de la canción de Flowers. Esta es la estrofa,  pre-estrivillo, estrivillo, primera mitad del estrivillo y segunda mitad del estrivillo.  El estrivillo entra en el segundo 33. Eso es Gold Standard. Eso es en plan. Has conseguido  que la gente se coma el estrivillo en el segundo 33, o sea, en hora buena. Se suele  pedir que por favor el estrivillo entra antes del minuto 1 de la canción y el 65% de  la canción es estrivillo. Esto de un gran estrivillo que se repite. La canción no tiene ni puente.  Hay otras estrategias que también están muy bien para conseguir que el estrivillo  se garrapido. Por ejemplo, ya que se han hecho tantos paralelismos por la temática,  la desaquíra y bizarra empieza con el estrivillo directamente.  Simplemente está con un blue pass filter. El estrivillo se llegó como de lejos, pero ya  según suena ya está soyendo la melodía y dice, ¿vale? ¿Estás ya sé cuál es ya?  Le he reconocido ya estoy. La siguiente revolución en la industria será conseguir que escuches  el estrivillo antes que la canción.  Precisamente eso es lo que ha hecho Miley. Se ha el estrivillo de Miley lo llevas escuchando  de 2012 en la estrofa de Bruno Mars. ¿Qué perdón?  Se encorce, melodice, vale entonces. Vamos a ver.  O sea que sí, la letra y la música están cojidas de Bruno Mars y sin embargo,  Bruno Mars no aparece en los créditos de composición, que es algo que podría haber ocurrido,  podrían hablar de blano y estoy escogiendo elementos de tu canción. Es posible que esté  protegido por Fairviews porque al final está respondiendo a la canción, no es una coge.  Igual que padre de familia pudo hacer una parodia de Star Wars sin pagar derechos a los  lucas. Esto entra dentro del marco, parodia, está comentando sobre la canción de Bruno Mars.  No tendría por qué pagarle. No es lo mismo que subir acogido, simplemente la melodía  de Bruno Mars para hacer otra canción que no tuvieran nada que ver.  Entonces formas que es lo más probable que haya ocurrido, que por diferencia ya la  ya llamable haya dicho, ¿hoche? Voy a hacer una canción que va a ser el primer single de  mi nuevo disco, literalmente, respondiéndote. Entonces estamos chill y el ya ha dicho, tranquila  a lo que quieras y ya está.  Que ahora la canción está arrasando y es posible que eso lleve a que haya cambios en  los créditos de la canción en algún momento del futuro porque se metan abogados discográficas.  Puede ser, pero vamos. Si eso ocurre ya lo comentaremos, no creo.  ¡Daba! ¡Tabos muy importante!  Si quieres aprender a acompañar al piano Flowers, When I was your man, When I was your  wife, puedes aprender a tocar el piano conmigo en muisejax.com.  Creo que voy a hacer un vídeo entero analizando la de When I was your man de Bruno Mars,  porque me flipa y se merece su propio análisis. Espero que os haya gustado y nos vemos la semana  que viene. Hasta pronto.\n"
     ]
    },
    {
     "name": "stderr",
     "output_type": "stream",
     "text": [
      "Your max_length is set to 130, but your input_length is only 88. Since this is a summarization task, where outputs shorter than the input are typically wanted, you might consider decreasing max_length manually, e.g. summarizer('...', max_length=44)\n"
     ]
    },
    {
     "name": "stdout",
     "output_type": "stream",
     "text": [
      "\"Flowers de My Liz Iris\" es de la canción más estremeada en su primera semana en la historia of Spotify. \"Quiero analizar Flowers porque me gusta mucho\" My Liz Iris es una canción respuesta en todas las maneras de responder letra, melodía y acordes. A gente que se dedica a analizar música y siendo no tiene nada que ver melodicamente, no es verdad. Miley: 'I don't ever want to have to need someone again where you feel like without them,  you can't be yourself' Esta letra es en respuesta a cómo se sentía Miley en su relación with su ex.  x, está articulándolo como una respuesta,  a una canción de Bruno Mars. Cantadas desde la perspectiva del chico en la relación, diciendo esto. H get yelled. La melodía y los acordes del estribillo de Miley son la estrofe de  the canción de Bruno Mars. Los acordes son los mismos. Si veinte Bruno adornan algunos acordes metiéndole  a una séptima in medio. Bruno hace.  un poco más, porque está todo más dilatado. Bruno es una esencia también hace la menor re, sol, do and para ir del do, a the menor, hace el  solo, y a la womenor hace prácticamente lo mismo. Miley ha cogido Bruno  Mars, lo ha hecho el doble de rápido and ha cantado lo that cantaba Bruno prácticamente. Es el tema de Flágo y de Undertale por encima en Flogueres de Miley. Lo único que cambia es el tempo. I will Survive tiene esa serie de acordes. Puedes coger los cuatro primeros acordes y hacer las cuatro estaciones Miley, Sairos muy fácilmente. La segunda mitad de la estribuía de Flowers suena muy  parecida a estas cuerdas de I will Survive. Está como respondiendo  a Bruno Mars. The R, el artista y repertorio, es  un puesto de una persona que se supone que ve la por tu éxito profesional. Tú le enseñas esta canción a the R y la R te pone un 10. Te pone  una matrícula de honor  y es por the estructura. El estrivillo entra en el segundo 33. Eso es Gold Standard. La canción no tiene ni puente. Hay otras estrategias que también están muy bien. El estrivillo se llegó como de lejos, pero ya  según suena ya está soyendo la melodía. Se han hecho tantos paralelismos por la temática. La siguiente revolución en la industria será conseguir que escuches  el estrivillos antes que la canción. Precisamente eso es lo that ha hecho Miley. Bruno Mars no aparece en los créditos de composición, que es algo que podría haber ocurrido. Es posible que esté  protegido by Fairviews porque al final está respondiendo a the canción, no es una coge. \"Voy a hacer una canción que va a ser el primer single de  mi nuevo danza\" \"No tendría por qué pagarle. No es lo mismo que subir acogido\" Es posible que haya cambios en  los créditos de la canción en algún momento del futuro porque se metan abogados discográficas. Si eso ocurre ya lo comentaremos, no creo. Voy a hacer un vídeo entero analizando la de When I was your man de Bruno Mars. Espero que os haya gustado y nos vemos la semana  that viene. Hasta pronto.\n",
      "Palabras clave que deben aparecer: ['canción', 'letra', 'Bruno', 'Mars', 'Miley', 'Cyrus', 'estribillo', 'acorde', 'melodía', 'flowers']\n",
      "Número de palabras clave: 10\n",
      "Conteo de palabras clave que aparecen: {'canción': 25, 'letra': 11, 'Bruno': 21, 'Mars': 16, 'Miley': 13, 'Cyrus': 0, 'estribillo': 3, 'acorde': 11, 'melodía': 8, 'flowers': 9}\n",
      "Número de palabras clave que aparecen: 9\n"
     ]
    }
   ],
   "source": [
    "transcripcion = transcribir_audio(\"./grabaciones/altozano.mp3\")\n",
    "print(transcripcion)\n",
    "resumen = summarize_long_text(transcripcion)\n",
    "print(resumen)\n",
    "palabras_clave = [\"canción\", \"letra\", \"Bruno\", \"Mars\", \"Miley\", \"Cyrus\", \"estribillo\", \"acorde\", \"melodía\", \"flowers\"]\n",
    "aparicion_palabras_clave(transcripcion, palabras_clave)"
   ]
  },
  {
   "cell_type": "markdown",
   "metadata": {},
   "source": [
    "### Validación de video"
   ]
  },
  {
   "cell_type": "code",
   "execution_count": 39,
   "metadata": {},
   "outputs": [
    {
     "name": "stderr",
     "output_type": "stream",
     "text": [
      "Your max_length is set to 130, but your input_length is only 112. Since this is a summarization task, where outputs shorter than the input are typically wanted, you might consider decreasing max_length manually, e.g. summarizer('...', max_length=56)\n"
     ]
    },
    {
     "name": "stdout",
     "output_type": "stream",
     "text": [
      "ER: \n",
      "Describe the video in detail. ASSISTANT: The video features a man with long hair and a beard, who is wearing a black tank top. He is standing in front of a bookshelf, which is filled with various books. The man appears to be in a good mood as he is smiling and laughing. He is holding a remote control in his hand, which he uses to turn on a television that is placed on a stand in front of him. The television screen is not visible in the video. The man\n",
      "The video features a man with long hair and a beard, who is wearing a black tank top. He is standing in front of a bookshelf, which is filled with various books. The man appears to be in a good mood as he is smiling and laughing.\n",
      "Palabras clave que deben aparecer: ['catalán', 'dedoringa', 'hablar']\n",
      "Número de palabras clave: 3\n",
      "Conteo de palabras clave que aparecen: {'catalán': 0, 'dedoringa': 0, 'hablar': 0}\n",
      "Número de palabras clave que aparecen: 0\n",
      "Palabras clave que deben aparecer: ['man', 'room', 'speaking']\n",
      "Número de palabras clave: 3\n",
      "Conteo de palabras clave que aparecen: {'man': 3, 'room': 0, 'speaking': 0}\n",
      "Número de palabras clave que aparecen: 1\n"
     ]
    }
   ],
   "source": [
    "transcripcion = transcribir_video(\"./grabaciones/jordiwild.mp4\")\n",
    "print(transcripcion)\n",
    "resumen = summarize_long_text(transcripcion)\n",
    "print(resumen)\n",
    "\n",
    "palabras_clave_audio = [\"catalán\", \"dedoringa\", \"hablar\"]\n",
    "palabras_clave_video = [\"man\", \"room\", \"speaking\"]\n",
    "\n",
    "aparicion_palabras_clave(transcripcion, palabras_clave_audio)\n",
    "aparicion_palabras_clave(transcripcion, palabras_clave_video)\n"
   ]
  },
  {
   "cell_type": "code",
   "execution_count": 40,
   "metadata": {},
   "outputs": [
    {
     "name": "stderr",
     "output_type": "stream",
     "text": [
      "Your max_length is set to 130, but your input_length is only 100. Since this is a summarization task, where outputs shorter than the input are typically wanted, you might consider decreasing max_length manually, e.g. summarizer('...', max_length=50)\n"
     ]
    },
    {
     "name": "stdout",
     "output_type": "stream",
     "text": [
      "ER: \n",
      "Describe the video in detail. ASSISTANT: The video captures a serene scene in the wild, featuring a giraffe and a lion cub. The giraffe, with its long neck and distinctive spots, is standing tall and majestic, its gaze directed towards the camera. The lion cub, with its smaller size and playful demeanor, is seen climbing onto the giraffe's back, perhaps in a display of curiosity or playfulness. The giraffe seems unfaz\n",
      "Video captures a serene scene in the wild, featuring a giraffe and a lion cub. The lion cub, with its smaller size and playful demeanor, is seen climbing onto the giraffe's back.\n",
      "Palabras clave que deben aparecer: ['hunt', 'prey', 'lion', 'giraffe', 'tree']\n",
      "Número de palabras clave: 5\n",
      "Conteo de palabras clave que aparecen: {'hunt': 0, 'prey': 0, 'lion': 2, 'giraffe': 4, 'tree': 0}\n",
      "Número de palabras clave que aparecen: 2\n"
     ]
    }
   ],
   "source": [
    "transcripcion = transcribir_video(\"./grabaciones/caza.mp4\")\n",
    "print(transcripcion)\n",
    "resumen = summarize_long_text(transcripcion)\n",
    "print(resumen)\n",
    "palabras_clave_video = [\"hunt\", \"prey\", \"lion\", \"giraffe\", \"tree\"]\n",
    "aparicion_palabras_clave(transcripcion, palabras_clave_video)"
   ]
  }
 ],
 "metadata": {
  "kernelspec": {
   "display_name": ".venv",
   "language": "python",
   "name": "python3"
  },
  "language_info": {
   "codemirror_mode": {
    "name": "ipython",
    "version": 3
   },
   "file_extension": ".py",
   "mimetype": "text/x-python",
   "name": "python",
   "nbconvert_exporter": "python",
   "pygments_lexer": "ipython3",
   "version": "3.11.9"
  }
 },
 "nbformat": 4,
 "nbformat_minor": 5
}
